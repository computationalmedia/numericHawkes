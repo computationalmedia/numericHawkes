{
 "cells": [
  {
   "cell_type": "markdown",
   "metadata": {},
   "source": [
    "# Environment"
   ]
  },
  {
   "cell_type": "code",
   "execution_count": 1,
   "metadata": {},
   "outputs": [],
   "source": [
    "from tick.base import TimeFunction\n",
    "from Hawkes import Hawkes\n",
    "import numpy as np"
   ]
  },
  {
   "cell_type": "markdown",
   "metadata": {},
   "source": [
    "# Define Hawkes"
   ]
  },
  {
   "cell_type": "code",
   "execution_count": 3,
   "metadata": {},
   "outputs": [],
   "source": [
    "# Numerical representation of a triggering kernel\n",
    "ts = np.append([0],np.logspace(-5,np.log10(np.pi),256))\n",
    "ys = 0.21/(ts+0.05)**1.1\n",
    "phi = TimeFunction([ts, ys], inter_mode=TimeFunction.InterConstRight, dt=1e-6)\n",
    "# baseline: np.ndarray or list\n",
    "mu = TimeFunction([ts, 5*np.ones(len(ts))], inter_mode=TimeFunction.InterConstRight, dt=1e-6)\n",
    "\n",
    "hawkes = Hawkes(mu,phi)"
   ]
  },
  {
   "cell_type": "markdown",
   "metadata": {},
   "source": [
    "# Simulation"
   ]
  },
  {
   "cell_type": "code",
   "execution_count": null,
   "metadata": {
    "collapsed": true
   },
   "outputs": [],
   "source": [
    "t,p = hawkes.simulation(np.pi)\n",
    "print('time: ', t)\n",
    "print('triggering relations: ', p)"
   ]
  }
 ],
 "metadata": {
  "kernelspec": {
   "display_name": "Python 3",
   "language": "python",
   "name": "python3"
  },
  "language_info": {
   "codemirror_mode": {
    "name": "ipython",
    "version": 3
   },
   "file_extension": ".py",
   "mimetype": "text/x-python",
   "name": "python",
   "nbconvert_exporter": "python",
   "pygments_lexer": "ipython3",
   "version": "3.5.4"
  }
 },
 "nbformat": 4,
 "nbformat_minor": 2
}
